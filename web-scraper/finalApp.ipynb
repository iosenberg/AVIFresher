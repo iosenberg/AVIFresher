{
 "cells": [
  {
   "cell_type": "code",
   "execution_count": 1,
   "id": "2e5e0899",
   "metadata": {},
   "outputs": [
    {
     "name": "stdout",
     "output_type": "stream",
     "text": [
      "Requirement already satisfied: selenium in ./opt/anaconda3/lib/python3.8/site-packages (4.0.0)\n",
      "Requirement already satisfied: pandas in ./opt/anaconda3/lib/python3.8/site-packages (1.2.4)\n",
      "Requirement already satisfied: python-dateutil>=2.7.3 in ./opt/anaconda3/lib/python3.8/site-packages (from pandas) (2.8.1)\n",
      "Requirement already satisfied: pytz>=2017.3 in ./opt/anaconda3/lib/python3.8/site-packages (from pandas) (2021.1)\n",
      "Requirement already satisfied: numpy>=1.16.5 in ./opt/anaconda3/lib/python3.8/site-packages (from pandas) (1.18.5)\n",
      "Requirement already satisfied: six>=1.5 in ./opt/anaconda3/lib/python3.8/site-packages (from python-dateutil>=2.7.3->pandas) (1.15.0)\n",
      "Requirement already satisfied: trio~=0.17 in ./opt/anaconda3/lib/python3.8/site-packages (from selenium) (0.19.0)\n",
      "Requirement already satisfied: urllib3[secure]~=1.26 in ./opt/anaconda3/lib/python3.8/site-packages (from selenium) (1.26.4)\n",
      "Requirement already satisfied: trio-websocket~=0.9 in ./opt/anaconda3/lib/python3.8/site-packages (from selenium) (0.9.2)\n",
      "Requirement already satisfied: idna in ./opt/anaconda3/lib/python3.8/site-packages (from trio~=0.17->selenium) (2.10)\n",
      "Requirement already satisfied: sortedcontainers in ./opt/anaconda3/lib/python3.8/site-packages (from trio~=0.17->selenium) (2.3.0)\n",
      "Requirement already satisfied: outcome in ./opt/anaconda3/lib/python3.8/site-packages (from trio~=0.17->selenium) (1.1.0)\n",
      "Requirement already satisfied: attrs>=19.2.0 in ./opt/anaconda3/lib/python3.8/site-packages (from trio~=0.17->selenium) (20.3.0)\n",
      "Requirement already satisfied: sniffio in ./opt/anaconda3/lib/python3.8/site-packages (from trio~=0.17->selenium) (1.2.0)\n",
      "Requirement already satisfied: async-generator>=1.9 in ./opt/anaconda3/lib/python3.8/site-packages (from trio~=0.17->selenium) (1.10)\n",
      "Requirement already satisfied: wsproto>=0.14 in ./opt/anaconda3/lib/python3.8/site-packages (from trio-websocket~=0.9->selenium) (1.0.0)\n",
      "Requirement already satisfied: pyOpenSSL>=0.14 in ./opt/anaconda3/lib/python3.8/site-packages (from urllib3[secure]~=1.26->selenium) (20.0.1)\n",
      "Requirement already satisfied: certifi in ./opt/anaconda3/lib/python3.8/site-packages (from urllib3[secure]~=1.26->selenium) (2020.12.5)\n",
      "Requirement already satisfied: cryptography>=1.3.4 in ./opt/anaconda3/lib/python3.8/site-packages (from urllib3[secure]~=1.26->selenium) (3.4.7)\n",
      "Requirement already satisfied: cffi>=1.12 in ./opt/anaconda3/lib/python3.8/site-packages (from cryptography>=1.3.4->urllib3[secure]~=1.26->selenium) (1.14.5)\n",
      "Requirement already satisfied: pycparser in ./opt/anaconda3/lib/python3.8/site-packages (from cffi>=1.12->cryptography>=1.3.4->urllib3[secure]~=1.26->selenium) (2.20)\n",
      "Requirement already satisfied: h11<1,>=0.9.0 in ./opt/anaconda3/lib/python3.8/site-packages (from wsproto>=0.14->trio-websocket~=0.9->selenium) (0.12.0)\n",
      "Requirement already satisfied: webdriver-manager in ./opt/anaconda3/lib/python3.8/site-packages (3.5.2)\n",
      "Requirement already satisfied: crayons in ./opt/anaconda3/lib/python3.8/site-packages (from webdriver-manager) (0.4.0)\n",
      "Requirement already satisfied: configparser in ./opt/anaconda3/lib/python3.8/site-packages (from webdriver-manager) (5.1.0)\n",
      "Requirement already satisfied: requests in ./opt/anaconda3/lib/python3.8/site-packages (from webdriver-manager) (2.25.1)\n",
      "Requirement already satisfied: colorama in ./opt/anaconda3/lib/python3.8/site-packages (from crayons->webdriver-manager) (0.4.4)\n",
      "Requirement already satisfied: chardet<5,>=3.0.2 in ./opt/anaconda3/lib/python3.8/site-packages (from requests->webdriver-manager) (4.0.0)\n",
      "Requirement already satisfied: certifi>=2017.4.17 in ./opt/anaconda3/lib/python3.8/site-packages (from requests->webdriver-manager) (2020.12.5)\n",
      "Requirement already satisfied: idna<3,>=2.5 in ./opt/anaconda3/lib/python3.8/site-packages (from requests->webdriver-manager) (2.10)\n",
      "Requirement already satisfied: urllib3<1.27,>=1.21.1 in ./opt/anaconda3/lib/python3.8/site-packages (from requests->webdriver-manager) (1.26.4)\n",
      "Requirement already satisfied: bs4 in ./opt/anaconda3/lib/python3.8/site-packages (0.0.1)\n",
      "Requirement already satisfied: beautifulsoup4 in ./opt/anaconda3/lib/python3.8/site-packages (from bs4) (4.9.3)\n",
      "Requirement already satisfied: soupsieve>1.2 in ./opt/anaconda3/lib/python3.8/site-packages (from beautifulsoup4->bs4) (2.2.1)\n",
      "Requirement already satisfied: html5lib in ./opt/anaconda3/lib/python3.8/site-packages (1.1)\n",
      "Requirement already satisfied: six>=1.9 in ./opt/anaconda3/lib/python3.8/site-packages (from html5lib) (1.15.0)\n",
      "Requirement already satisfied: webencodings in ./opt/anaconda3/lib/python3.8/site-packages (from html5lib) (0.5.1)\n",
      "Requirement already satisfied: mysql-connector-python in ./opt/anaconda3/lib/python3.8/site-packages (8.0.28)\n",
      "Requirement already satisfied: protobuf>=3.0.0 in ./opt/anaconda3/lib/python3.8/site-packages (from mysql-connector-python) (3.17.3)\n",
      "Requirement already satisfied: six>=1.9 in ./opt/anaconda3/lib/python3.8/site-packages (from protobuf>=3.0.0->mysql-connector-python) (1.15.0)\n"
     ]
    }
   ],
   "source": [
    "!pip install selenium pandas\n",
    "!pip install webdriver-manager\n",
    "!pip install bs4\n",
    "!pip install html5lib\n",
    "!pip install mysql-connector-python"
   ]
  },
  {
   "cell_type": "code",
   "execution_count": 2,
   "id": "5b42cd91",
   "metadata": {},
   "outputs": [],
   "source": [
    "# imports go here\n",
    "import mysql.connector\n",
    "from bs4 import BeautifulSoup\n",
    "import html5lib\n",
    "from selenium import webdriver\n",
    "from selenium.webdriver.chrome.service import Service\n",
    "from webdriver_manager.chrome import ChromeDriverManager\n",
    "from selenium.webdriver.common.by import By\n",
    "from selenium.webdriver.support.ui import WebDriverWait\n",
    "from selenium.webdriver.support import expected_conditions as EC\n",
    "import time"
   ]
  },
  {
   "cell_type": "code",
   "execution_count": 3,
   "id": "f60f93cf",
   "metadata": {},
   "outputs": [
    {
     "name": "stderr",
     "output_type": "stream",
     "text": [
      "\n",
      "\n",
      "====== WebDriver manager ======\n",
      "Current google-chrome version is 98.0.4758\n",
      "Get LATEST chromedriver version for 98.0.4758 google-chrome\n",
      "Driver [/Users/rohitpoks/.wdm/drivers/chromedriver/mac64/98.0.4758.102/chromedriver] found in cache\n"
     ]
    }
   ],
   "source": [
    "# update chrome driver and run\n",
    "path = '/Users/rohitpoks/Downloads/chromedriver'\n",
    "s=Service(ChromeDriverManager().install())\n",
    "driver = webdriver.Chrome(service=s)\n",
    "driver.maximize_window()"
   ]
  },
  {
   "cell_type": "code",
   "execution_count": 4,
   "id": "3b59be07",
   "metadata": {
    "scrolled": true
   },
   "outputs": [],
   "source": [
    "link = 'https://dish.avifoodsystems.com/oberlincollege/111/182/week' # breakfast\n",
    "# link = 'https://dish.avifoodsystems.com/oberlincollege/111/183/week' # lunch\n",
    "# link = 'https://dish.avifoodsystems.com/oberlincollege/111/184/week' # dinner"
   ]
  },
  {
   "cell_type": "code",
   "execution_count": 5,
   "id": "6596b641",
   "metadata": {},
   "outputs": [],
   "source": [
    "# get page source\n",
    "def openPage():\n",
    "    driver_ = webdriver.Chrome(service=s)\n",
    "    driver_.maximize_window()\n",
    "    driver_.get(link)\n",
    "    time.sleep(5)\n",
    "    return driver_.page_source"
   ]
  },
  {
   "cell_type": "code",
   "execution_count": 6,
   "id": "fc11669e",
   "metadata": {},
   "outputs": [],
   "source": [
    "# get driver\n",
    "def openPageReturnDriver():\n",
    "    driver_ = webdriver.Chrome(service=s)\n",
    "    driver_.maximize_window()\n",
    "    driver_.get(link)\n",
    "    time.sleep(5)\n",
    "    return driver_"
   ]
  },
  {
   "cell_type": "code",
   "execution_count": 7,
   "id": "9b971041",
   "metadata": {},
   "outputs": [],
   "source": [
    "html_source = openPage()\n",
    "soup = BeautifulSoup(html_source, 'html.parser')  # run parser on page source"
   ]
  },
  {
   "cell_type": "code",
   "execution_count": 8,
   "id": "121c5489",
   "metadata": {},
   "outputs": [],
   "source": [
    "# wait for 10 seconds, let it open"
   ]
  },
  {
   "cell_type": "code",
   "execution_count": 9,
   "id": "f5354456",
   "metadata": {},
   "outputs": [],
   "source": [
    "lunchDict = {}\n",
    "day = 0\n",
    "changeDay = False\n",
    "itemCounter = 1\n",
    "currentStationValue = 0\n",
    "for para in soup.find_all(\"div\",  {\"class\": [\"station-header\", \"product-name pl-2\", \"text-center text-ming avi-text\"]}):\n",
    "    if (para.get_text().strip()[0:6] == \"Sunday\" or para.get_text()[0:6] == \"Monday\" or para.get_text()[0:7] == \"Tuesday\" or para.get_text()[0:9] == \"Wednesday\" or para.get_text()[0:8] == \"Thursday\" or para.get_text()[0:6] == \"Friday\" or para.get_text()[0:8] == \"Saturday\"):\n",
    "            changeDay = True\n",
    "    elif para.get_text().isupper() or para.get_text() == \"Vegan Breakfast\":\n",
    "        if changeDay:\n",
    "            currentStationValue = 0\n",
    "        currentStationValue+=1\n",
    "        itemCounter = 1\n",
    "        currentStation = para.get_text()\n",
    "    else:\n",
    "        itemCounter+=1\n",
    "        currentString = para.get_text()\n",
    "        if changeDay:\n",
    "            day+=1\n",
    "            changeDay = False\n",
    "        if not para.get_text() in lunchDict:\n",
    "            lunchDict[para.get_text()] = [day, currentStationValue, itemCounter]"
   ]
  },
  {
   "cell_type": "code",
   "execution_count": 10,
   "id": "71ce90f8",
   "metadata": {},
   "outputs": [],
   "source": [
    "# extract from db object\n",
    "# get from database and store in hashset\n",
    "class GetNames(object):\n",
    "    def __init__(self):\n",
    "        self.create_connection()\n",
    "        #self.process_item(array)\n",
    "        #self.get_item_name(setObject)\n",
    "        \n",
    "    def create_connection(self):\n",
    "        self.conn = mysql.connector.connect(\n",
    "            host='35.232.237.179',\n",
    "            user='avifresher',\n",
    "            passwd='avifreshsucks42069',\n",
    "            database='avifresher'\n",
    "        )\n",
    "        self.curr = self.conn.cursor()\n",
    "\n",
    "    def get_item_name(self, setObject):\n",
    "        self.curr.execute(\"\"\"SELECT Name from stevenson\"\"\")\n",
    "        setObject = self.curr.fetchall()\n",
    "        return setObject\n",
    "        "
   ]
  },
  {
   "cell_type": "code",
   "execution_count": 11,
   "id": "b9825581",
   "metadata": {},
   "outputs": [],
   "source": [
    "newObject = GetNames()\n",
    "mySet = {}\n",
    "mySet = newObject.get_item_name(mySet)"
   ]
  },
  {
   "cell_type": "code",
   "execution_count": 12,
   "id": "432a6f69",
   "metadata": {},
   "outputs": [
    {
     "name": "stdout",
     "output_type": "stream",
     "text": [
      "Sausage Link, Pork  attributes:\n",
      " Gluten Sensitive \n",
      "inner para is  Amount Per Serving Calories 263 % Daily Value*Total Fat 26g  Saturated Fat 9g Trans Fat 0g Cholesterol 44mg Sodium 551mg Total Carbohydrate 0g  Dietary Fiber 0g  Total Sugar 0g  Added Sugar 0g Protein 6g \n",
      "['Sausage Link, Pork', 0, 0, 0, 0, 0, 0, 0, 0, 0, 0, 0, 1, 0, 0, 263, 26, 9, 0, 44, 551, 0, 0, 0, 0, 6, 0, 0, 0, 0, 0, 0, 0, 0, 0, 0, 0, 0, 0, 0, 0, 0, 0, 0, 0, 0, 0, 0, 0, 0, 0, 0, 0, 0, 0, 0, 0, 0, 0, 0, 0, 0, 0, 0, 0, 0, 0, 0, 0, 0, 0, 0, 0, 0, 0, 0, 0, 0, 0, 0, 0, 0, 0, 0, 0, 0, 0, 0, 0, 0, 0, 0, 0, 0, 0, 0, 0, 0, 0, 0, 0, 0, 0, 0, 0, 0, 0, 0, 0, 0, 0, 0, 0, 0, 0, 0, 0, 0, 0, 0, 0, 0, 0, 0, 0, 0, 0, 0, 0, 0, 0, 0, 0, 0, 0, 0, 0, 0, 0, 0, 0, 0, 0, 0, 0, 0, 0, 0, 0, 0, 0, 0, 0, 0, 0, 0, 0, 0, 0, 0, 0, 0, 0, 0, 0, 0, 0, 0, 0, 0, 0, 0, 0, 0, 0, 0, 0, 0, 0, 0, 0, 0, 0, 0, 0, 0, 0, 0, 0, 0, 0, 0, 0, 0, 0, 0, 0, 0, 0, 0, 0, 0, 0, 0, 0, 0, 0, 0, 0, 0, 0, 0, 0, 0, 0, 0, 0, 0, 0, 0, 0, 0, 0, 0, 0, 0, 0, 0, 0, 0, 0, 0, 0, 0, 0, 0, 0, 0, 0, 0, 0, 0, 0, 0, 0, 0, 0, 0, 0, 0, 0, 0, 0, 0, 0, 0, 0, 0, 0, 0, 0, 0, 0, 0, 0, 0, 0, 0, 0, 0, 0, 0, 0, 0, 0, 0, 0, 0, 0, 0, 0, 0, 0, 0, 0, 0, 0, 0, 0, 0, 0, 0, 0, 0, 0, 0, 0, 0, 0, 0, 0, 0, 0, 0, 0, 0, 0, 0, 0, 0, 0, 0, 0, 0, 0, 0, 0, 0, 0, 0, 0, 0, 0, 0, 0, 0, 0, 0, 0, 0, 0, 0, 0, 0, 0, 0, 0, 0, 0, 0, 0, 0, 0, 0, 0, 0, 0, 0, 0, 0, 0, 0, 0, 0, 0, 0, 0, 0, 0, 0, 0, 0, 0, 0, 0, 0, 0, 0, 0, 0, 0, 0, 0, 0, 0, 0, 0, 0, 0, 0, 0, 0, 0, 0, 0, 0, 0, 0, 0, 0, 0, 0, 0, 0, 0, 0, 0, 0, 0, 0, 0, 0, 0, 0, 0, 0, 0, 0, 0, 0, 0, 0, 0, 0, 0, 0, 0, 0, 0, 0, 0, 0, 0, 0, 0, 0, 0, 0, 0, 0, 0, 0, 0, 0, 0, 0, 0, 0, 0, 0, 0, 0, 0, 0, 0, 0, 0, 0, 0, 0, 0, 0, 0, 0, 0, 0, 0, 0, 0, 0, 0, 0, 0, 0, 0, 0, 0, 0, 0, 0, 0, 0, 0, 0, 0, 0, 0, 0, 0, 0, 0, 0, 0, 0, 0, 0, 0, 0, 0, 0, 0, 0, 0, 0, 0, 0, 0, 0, 0, 0, 0, 0, 0, 0, 0, 0, 0, 0, 0, 0, 0, 0, 0, 0, 0, 0, 0, 0, 0, 0, 0, 0, 0, 0, 0, 0, 0, 0, 0, 0, 0, 0, 0, 0, 0, 0, 0, 0, 0, 0, 0, 0, 0, 0, 0, 0, 0, 0, 0, 0, 0, 0, 0, 0, 0, 0, 0, 0, 0, 0, 0, 0, 0, 0, 0, 0, 0, 0, 0, 0, 0, 0, 0, 0, 0, 0, 0, 0, 0, 0, 0, 0, 0, 0, 0, 0, 0, 0, 0, 0, 0, 0, 0, 0, 0, 0, 0, 0, 0, 0, 0, 0, 0, 0, 0, 0, 0, 0, 0, 0, 0, 0, 0, 0, 0, 0, 0, 0, 0, 0, 0, 0, 0, 0, 0, 0, 0, 0, 0, 0, 0, 0, 0, 0, 0, 0, 0, 0, 0, 0, 0, 0, 0, 0, 0, 0, 0, 0, 0, 0, 0, 0, 0, 0, 0, 0, 0, 0, 0, 0, 0, 0, 0, 0, 0, 0, 0, 0, 0, 0, 0, 0, 0, 0, 0, 0, 0, 0, 0, 0, 0, 0, 0, 0, 0, 0, 0, 0, 0, 0, 0, 0, 0, 0, 0, 0, 0, 0, 0, 0, 0, 0, 0, 0, 0, 0, 0, 0, 0, 0, 0, 0, 0, 0, 0, 0, 0, 0, 0, 0, 0, 0, 0, 0, 0, 0, 0, 0, 0, 0, 0, 0, 0, 0, 0, 0, 0, 0, 0, 0, 0, 0, 0, 0, 0, 0, 0, 0, 0, 0, 0, 0, 0, 0, 0, 0, 0, 0, 0, 0, 0, 0, 0, 0, 0, 0, 0, 0, 0, 0, 0, 0, 0, 0, 0, 0, 0, 0, 0, 0, 0, 0, 0, 0, 0, 0, 0, 0, 0, 0, 0, 0, 0, 0, 0, 0, 0, 0, 0, 0, 0, 0, 0, 0, 0, 0, 0, 0, 0, 0, 0, 0, 0, 0, 0, 0, 0, 0, 0, 0, 0, 0, 0, 0, 0, 0, 0, 0, 0, 0, 0, 0, 0, 0, 0, 0, 0, 0, 0, 0, 0, 0, 0, 0, 0, 0, 0, 0, 0, 0, 0, 0, 0, 0, 0, 0, 0, 0, 0, 0, 0, 0, 0, 0, 0, 0, 0, 0, 0, 0, 0, 0, 0, 0, 0, 0, 0, 0, 0, 0, 0, 0, 0, 0, 0, 0, 0, 0, 0, 0, 0, 0, 0, 0, 0, 0, 0, 0, 0, 0, 0, 0, 0, 0, 0, 0, 0, 0, 0, 0, 0, 0, 0, 0, 0, 0, 0, 0, 0, 0, 0, 0, 0, 0, 0, 0, 0, 0, 0, 0, 0, 0, 0, 0, 0, 0, 0, 0, 0, 0, 0, 0, 0, 0, 0, 0, 0, 0, 0, 0, 0, 0, 0, 0, 0, 0, 0, 0, 0, 0, 0, 0, 0, 0, 0, 0, 0, 0, 0, 0, 0, 0, 0, 0, 0, 0, 0, 0, 0, 0, 0, 0, 0, 0, 0, 0, 0, 0, 0, 0, 0, 0, 0, 0, 0, 0, 0, 0, 0, 0]\n",
      "Home Fries  attributes:\n",
      " Soy \n",
      " Dairy \n",
      " Vegetarian \n",
      " Gluten Sensitive \n",
      "inner para is  Amount Per Serving Calories 167 % Daily Value*Total Fat 8g  Saturated Fat 3g Trans Fat 0g Cholesterol 0mg Sodium 537mg Total Carbohydrate 23g  Dietary Fiber 2g  Total Sugar 1g  Added Sugar 0g Protein 3g \n",
      "['Home Fries', 1, 1, 0, 1, 0, 0, 0, 0, 0, 0, 0, 1, 0, 0, 167, 8, 3, 0, 0, 537, 23, 2, 1, 0, 3, 0, 0, 0, 0, 0, 0, 0, 0, 0, 0, 0, 0, 0, 0, 0, 0, 0, 0, 0, 0, 0, 0, 0, 0, 0, 0, 0, 0, 0, 0, 0, 0, 0, 0, 0, 0, 0, 0, 0, 0, 0, 0, 0, 0, 0, 0, 0, 0, 0, 0, 0, 0, 0, 0, 0, 0, 0, 0, 0, 0, 0, 0, 0, 0, 0, 0, 0, 0, 0, 0, 0, 0, 0, 0, 0, 0, 0, 0, 0, 0, 0, 0, 0, 0, 0, 0, 0, 0, 0, 0, 0, 0, 0, 0, 0, 0, 0, 0, 0, 0, 0, 0, 0, 0, 0, 0, 0, 0, 0, 0, 0, 0, 0, 0, 0, 0, 0, 0, 0, 0, 0, 0, 0, 0, 0, 0, 0, 0, 0, 0, 0, 0, 0, 0, 0, 0, 0, 0, 0, 0, 0, 0, 0, 0, 0, 0, 0, 0, 0, 0, 0, 0, 0, 0, 0, 0, 0, 0, 0, 0, 0, 0, 0, 0, 0, 0, 0, 0, 0, 0, 0, 0, 0, 0, 0, 0, 0, 0, 0, 0, 0, 0, 0, 0, 0, 0, 0, 0, 0, 0, 0, 0, 0, 0, 0, 0, 0, 0, 0, 0, 0, 0, 0, 0, 0, 0, 0, 0, 0, 0, 0, 0, 0, 0, 0, 0, 0, 0, 0, 0, 0, 0, 0, 0, 0, 0, 0, 0, 0, 0, 0, 0, 0, 0, 0, 0, 0, 0, 0, 0, 0, 0, 0, 0, 0, 0, 0, 0, 0, 0, 0, 0, 0, 0, 0, 0, 0, 0, 0, 0, 0, 0, 0, 0, 0, 0, 0, 0, 0, 0, 0, 0, 0, 0, 0, 0, 0, 0, 0, 0, 0, 0, 0, 0, 0, 0, 0, 0, 0, 0, 0, 0, 0, 0, 0, 0, 0, 0, 0, 0, 0, 0, 0, 0, 0, 0, 0, 0, 0, 0, 0, 0, 0, 0, 0, 0, 0, 0, 0, 0, 0, 0, 0, 0, 0, 0, 0, 0, 0, 0, 0, 0, 0, 0, 0, 0, 0, 0, 0, 0, 0, 0, 0, 0, 0, 0, 0, 0, 0, 0, 0, 0, 0, 0, 0, 0, 0, 0, 0, 0, 0, 0, 0, 0, 0, 0, 0, 0, 0, 0, 0, 0, 0, 0, 0, 0, 0, 0, 0, 0, 0, 0, 0, 0, 0, 0, 0, 0, 0, 0, 0, 0, 0, 0, 0, 0, 0, 0, 0, 0, 0, 0, 0, 0, 0, 0, 0, 0, 0, 0, 0, 0, 0, 0, 0, 0, 0, 0, 0, 0, 0, 0, 0, 0, 0, 0, 0, 0, 0, 0, 0, 0, 0, 0, 0, 0, 0, 0, 0, 0, 0, 0, 0, 0, 0, 0, 0, 0, 0, 0, 0, 0, 0, 0, 0, 0, 0, 0, 0, 0, 0, 0, 0, 0, 0, 0, 0, 0, 0, 0, 0, 0, 0, 0, 0, 0, 0, 0, 0, 0, 0, 0, 0, 0, 0, 0, 0, 0, 0, 0, 0, 0, 0, 0, 0, 0, 0, 0, 0, 0, 0, 0, 0, 0, 0, 0, 0, 0, 0, 0, 0, 0, 0, 0, 0, 0, 0, 0, 0, 0, 0, 0, 0, 0, 0, 0, 0, 0, 0, 0, 0, 0, 0, 0, 0, 0, 0, 0, 0, 0, 0, 0, 0, 0, 0, 0, 0, 0, 0, 0, 0, 0, 0, 0, 0, 0, 0, 0, 0, 0, 0, 0, 0, 0, 0, 0, 0, 0, 0, 0, 0, 0, 0, 0, 0, 0, 0, 0, 0, 0, 0, 0, 0, 0, 0, 0, 0, 0, 0, 0, 0, 0, 0, 0, 0, 0, 0, 0, 0, 0, 0, 0, 0, 0, 0, 0, 0, 0, 0, 0, 0, 0, 0, 0, 0, 0, 0, 0, 0, 0, 0, 0, 0, 0, 0, 0, 0, 0, 0, 0, 0, 0, 0, 0, 0, 0, 0, 0, 0, 0, 0, 0, 0, 0, 0, 0, 0, 0, 0, 0, 0, 0, 0, 0, 0, 0, 0, 0, 0, 0, 0, 0, 0, 0, 0, 0, 0, 0, 0, 0, 0, 0, 0, 0, 0, 0, 0, 0, 0, 0, 0, 0, 0, 0, 0, 0, 0, 0, 0, 0, 0, 0, 0, 0, 0, 0, 0, 0, 0, 0, 0, 0, 0, 0, 0, 0, 0, 0, 0, 0, 0, 0, 0, 0, 0, 0, 0, 0, 0, 0, 0, 0, 0, 0, 0, 0, 0, 0, 0, 0, 0, 0, 0, 0, 0, 0, 0, 0, 0, 0, 0, 0, 0, 0, 0, 0, 0, 0, 0, 0, 0, 0, 0, 0, 0, 0, 0, 0, 0, 0, 0, 0, 0, 0, 0, 0, 0, 0, 0, 0, 0, 0, 0, 0, 0, 0, 0, 0, 0, 0, 0, 0, 0, 0, 0, 0, 0, 0, 0, 0, 0, 0, 0, 0, 0, 0, 0, 0, 0, 0, 0, 0, 0, 0, 0, 0, 0, 0, 0, 0, 0, 0, 0, 0, 0, 0, 0, 0, 0, 0, 0, 0, 0, 0, 0, 0, 0, 0, 0, 0, 0, 0, 0, 0, 0, 0, 0, 0, 0, 0, 0, 0, 0, 0, 0, 0, 0, 0, 0, 0, 0, 0, 0, 0, 0, 0, 0, 0, 0, 0, 0, 0, 0, 0, 0, 0, 0, 0, 0, 0, 0, 0, 0, 0, 0, 0, 0, 0, 0, 0, 0, 0, 0, 0, 0, 0, 0, 0, 0, 0, 0, 0, 0, 0, 0, 0, 0, 0, 0, 0, 0, 0, 0, 0, 0, 0, 0, 0, 0, 0, 0, 0, 0, 0, 0, 0, 0, 0, 0, 0, 0, 0, 0, 0, 0, 0, 0, 0, 0, 0, 0, 0, 0, 0, 0, 0, 0, 0, 0, 0, 0, 0, 0, 0, 0, 0, 0, 0, 0, 0, 0, 0, 0, 0, 0, 0, 0, 0, 0, 0, 0, 0, 0, 0, 0, 0, 0, 0, 0, 0, 0, 0, 0, 0]\n",
      "Sunrise Southwest Breakfast Burrito  attributes:\n",
      " Soy \n",
      " Dairy \n",
      " Egg \n",
      " Wheat \n",
      "inner para is  Amount Per Serving Calories 729 % Daily Value*Total Fat 34g  Saturated Fat 11g Trans Fat 0g Cholesterol 205mg Sodium 2,163mg Total Carbohydrate 75g  Dietary Fiber 5g  Total Sugar 5g  Added Sugar 2g Protein 29g \n",
      "['Sunrise Southwest Breakfast Burrito', 1, 1, 1, 0, 0, 1, 0, 0, 0, 0, 0, 0, 0, 0, 729, 34, 11, 0, 205, 2163, 75, 5, 5, 2, 29, 0, 0, 0, 0, 0, 0, 0, 0, 0, 0, 0, 0, 0, 0, 0, 0, 0, 0, 0, 0, 0, 0, 0, 0, 0, 0, 0, 0, 0, 0, 0, 0, 0, 0, 0, 0, 0, 0, 0, 0, 0, 0, 0, 0, 0, 0, 0, 0, 0, 0, 0, 0, 0, 0, 0, 0, 0, 0, 0, 0, 0, 0, 0, 0, 0, 0, 0, 0, 0, 0, 0, 0, 0, 0, 0, 0, 0, 0, 0, 0, 0, 0, 0, 0, 0, 0, 0, 0, 0, 0, 0, 0, 0, 0, 0, 0, 0, 0, 0, 0, 0, 0, 0, 0, 0, 0, 0, 0, 0, 0, 0, 0, 0, 0, 0, 0, 0, 0, 0, 0, 0, 0, 0, 0, 0, 0, 0, 0, 0, 0, 0, 0, 0, 0, 0, 0, 0, 0, 0, 0, 0, 0, 0, 0, 0, 0, 0, 0, 0, 0, 0, 0, 0, 0, 0, 0, 0, 0, 0, 0, 0, 0, 0, 0, 0, 0, 0, 0, 0, 0, 0, 0, 0, 0, 0, 0, 0, 0, 0, 0, 0, 0, 0, 0, 0, 0, 0, 0, 0, 0, 0, 0, 0, 0, 0, 0, 0, 0, 0, 0, 0, 0, 0, 0, 0, 0, 0, 0, 0, 0, 0, 0, 0, 0, 0, 0, 0, 0, 0, 0, 0, 0, 0, 0, 0, 0, 0, 0, 0, 0, 0, 0, 0, 0, 0, 0, 0, 0, 0, 0, 0, 0, 0, 0, 0, 0, 0, 0, 0, 0, 0, 0, 0, 0, 0, 0, 0, 0, 0, 0, 0, 0, 0, 0, 0, 0, 0, 0, 0, 0, 0, 0, 0, 0, 0, 0, 0, 0, 0, 0, 0, 0, 0, 0, 0, 0, 0, 0, 0, 0, 0, 0, 0, 0, 0, 0, 0, 0, 0, 0, 0, 0, 0, 0, 0, 0, 0, 0, 0, 0, 0, 0, 0, 0, 0, 0, 0, 0, 0, 0, 0, 0, 0, 0, 0, 0, 0, 0, 0, 0, 0, 0, 0, 0, 0, 0, 0, 0, 0, 0, 0, 0, 0, 0, 0, 0, 0, 0, 0, 0, 0, 0, 0, 0, 0, 0, 0, 0, 0, 0, 0, 0, 0, 0, 0, 0, 0, 0, 0, 0, 0, 0, 0, 0, 0, 0, 0, 0, 0, 0, 0, 0, 0, 0, 0, 0, 0, 0, 0, 0, 0, 0, 0, 0, 0, 0, 0, 0, 0, 0, 0, 0, 0, 0, 0, 0, 0, 0, 0, 0, 0, 0, 0, 0, 0, 0, 0, 0, 0, 0, 0, 0, 0, 0, 0, 0, 0, 0, 0, 0, 0, 0, 0, 0, 0, 0, 0, 0, 0, 0, 0, 0, 0, 0, 0, 0, 0, 0, 0, 0, 0, 0, 0, 0, 0, 0, 0, 0, 0, 0, 0, 0, 0, 0, 0, 0, 0, 0, 0, 0, 0, 0, 0, 0, 0, 0, 0, 0, 0, 0, 0, 0, 0, 0, 0, 0, 0, 0, 0, 0, 0, 0, 0, 0, 0, 0, 0, 0, 0, 0, 0, 0, 0, 0, 0, 0, 0, 0, 0, 0, 0, 0, 0, 0, 0, 0, 0, 0, 0, 0, 0, 0, 0, 0, 0, 0, 0, 0, 0, 0, 0, 0, 0, 0, 0, 0, 0, 0, 0, 0, 0, 0, 0, 0, 0, 0, 0, 0, 0, 0, 0, 0, 0, 0, 0, 0, 0, 0, 0, 0, 0, 0, 0, 0, 0, 0, 0, 0, 0, 0, 0, 0, 0, 0, 0, 0, 0, 0, 0, 0, 0, 0, 0, 0, 0, 0, 0, 0, 0, 0, 0, 0, 0, 0, 0, 0, 0, 0, 0, 0, 0, 0, 0, 0, 0, 0, 0, 0, 0, 0, 0, 0, 0, 0, 0, 0, 0, 0, 0, 0, 0, 0, 0, 0, 0, 0, 0, 0, 0, 0, 0, 0, 0, 0, 0, 0, 0, 0, 0, 0, 0, 0, 0, 0, 0, 0, 0, 0, 0, 0, 0, 0, 0, 0, 0, 0, 0, 0, 0, 0, 0, 0, 0, 0, 0, 0, 0, 0, 0, 0, 0, 0, 0, 0, 0, 0, 0, 0, 0, 0, 0, 0, 0, 0, 0, 0, 0, 0, 0, 0, 0, 0, 0, 0, 0, 0, 0, 0, 0, 0, 0, 0, 0, 0, 0, 0, 0, 0, 0, 0, 0, 0, 0, 0, 0, 0, 0, 0, 0, 0, 0, 0, 0, 0, 0, 0, 0, 0, 0, 0, 0, 0, 0, 0, 0, 0, 0, 0, 0, 0, 0, 0, 0, 0, 0, 0, 0, 0, 0, 0, 0, 0, 0, 0, 0, 0, 0, 0, 0, 0, 0, 0, 0, 0, 0, 0, 0, 0, 0, 0, 0, 0, 0, 0, 0, 0, 0, 0, 0, 0, 0, 0, 0, 0, 0, 0, 0, 0, 0, 0, 0, 0, 0, 0, 0, 0, 0, 0, 0, 0, 0, 0, 0, 0, 0, 0, 0, 0, 0, 0, 0, 0, 0, 0, 0, 0, 0, 0, 0, 0, 0, 0, 0, 0, 0, 0, 0, 0, 0, 0, 0, 0, 0, 0, 0, 0, 0, 0, 0, 0, 0, 0, 0, 0, 0, 0, 0, 0, 0, 0, 0, 0, 0, 0, 0, 0, 0, 0, 0, 0, 0, 0, 0, 0, 0, 0, 0, 0, 0, 0, 0, 0, 0, 0, 0, 0, 0, 0, 0, 0, 0, 0, 0, 0, 0, 0, 0, 0, 0, 0, 0, 0, 0, 0, 0, 0, 0, 0, 0, 0, 0, 0, 0, 0, 0, 0, 0, 0, 0, 0, 0, 0, 0, 0, 0, 0, 0, 0, 0, 0, 0, 0, 0, 0, 0, 0, 0, 0, 0, 0, 0, 0, 0, 0, 0, 0, 0, 0, 0, 0, 0, 0, 0, 0, 0, 0, 0, 0, 0, 0, 0, 0, 0, 0, 0, 0, 0, 0, 0, 0, 0, 0, 0, 0, 0, 0, 0, 0, 0, 0, 0, 0, 0, 0]\n"
     ]
    },
    {
     "name": "stdout",
     "output_type": "stream",
     "text": [
      "Blueberry Buttermilk Pancakes  attributes:\n",
      " Dairy \n",
      " Wheat \n",
      " Vegetarian \n",
      "inner para is  Amount Per Serving Calories 294 % Daily Value*Total Fat 3g  Saturated Fat 1g Trans Fat 0g Cholesterol 0mg Sodium 887mg Total Carbohydrate 59g  Dietary Fiber 2g  Total Sugar 10g  Added Sugar 7g Protein 9g \n",
      "['Blueberry Buttermilk Pancakes', 0, 1, 1, 1, 0, 0, 0, 0, 0, 0, 0, 0, 0, 0, 294, 3, 1, 0, 0, 887, 59, 2, 10, 7, 9, 0, 0, 0, 0, 0, 0, 0, 0, 0, 0, 0, 0, 0, 0, 0, 0, 0, 0, 0, 0, 0, 0, 0, 0, 0, 0, 0, 0, 0, 0, 0, 0, 0, 0, 0, 0, 0, 0, 0, 0, 0, 0, 0, 0, 0, 0, 0, 0, 0, 0, 0, 0, 0, 0, 0, 0, 0, 0, 0, 0, 0, 0, 0, 0, 0, 0, 0, 0, 0, 0, 0, 0, 0, 0, 0, 0, 0, 0, 0, 0, 0, 0, 0, 0, 0, 0, 0, 0, 0, 0, 0, 0, 0, 0, 0, 0, 0, 0, 0, 0, 0, 0, 0, 0, 0, 0, 0, 0, 0, 0, 0, 0, 0, 0, 0, 0, 0, 0, 0, 0, 0, 0, 0, 0, 0, 0, 0, 0, 0, 0, 0, 0, 0, 0, 0, 0, 0, 0, 0, 0, 0, 0, 0, 0, 0, 0, 0, 0, 0, 0, 0, 0, 0, 0, 0, 0, 0, 0, 0, 0, 0, 0, 0, 0, 0, 0, 0, 0, 0, 0, 0, 0, 0, 0, 0, 0, 0, 0, 0, 0, 0, 0, 0, 0, 0, 0, 0, 0, 0, 0, 0, 0, 0, 0, 0, 0, 0, 0, 0, 0, 0, 0, 0, 0, 0, 0, 0, 0, 0, 0, 0, 0, 0, 0, 0, 0, 0, 0, 0, 0, 0, 0, 0, 0, 0, 0, 0, 0, 0, 0, 0, 0, 0, 0, 0, 0, 0, 0, 0, 0, 0, 0, 0, 0, 0, 0, 0, 0, 0, 0, 0, 0, 0, 0, 0, 0, 0, 0, 0, 0, 0, 0, 0, 0, 0, 0, 0, 0, 0, 0, 0, 0, 0, 0, 0, 0, 0, 0, 0, 0, 0, 0, 0, 0, 0, 0, 0, 0, 0, 0, 0, 0, 0, 0, 0, 0, 0, 0, 0, 0, 0, 0, 0, 0, 0, 0, 0, 0, 0, 0, 0, 0, 0, 0, 0, 0, 0, 0, 0, 0, 0, 0, 0, 0, 0, 0, 0, 0, 0, 0, 0, 0, 0, 0, 0, 0, 0, 0, 0, 0, 0, 0, 0, 0, 0, 0, 0, 0, 0, 0, 0, 0, 0, 0, 0, 0, 0, 0, 0, 0, 0, 0, 0, 0, 0, 0, 0, 0, 0, 0, 0, 0, 0, 0, 0, 0, 0, 0, 0, 0, 0, 0, 0, 0, 0, 0, 0, 0, 0, 0, 0, 0, 0, 0, 0, 0, 0, 0, 0, 0, 0, 0, 0, 0, 0, 0, 0, 0, 0, 0, 0, 0, 0, 0, 0, 0, 0, 0, 0, 0, 0, 0, 0, 0, 0, 0, 0, 0, 0, 0, 0, 0, 0, 0, 0, 0, 0, 0, 0, 0, 0, 0, 0, 0, 0, 0, 0, 0, 0, 0, 0, 0, 0, 0, 0, 0, 0, 0, 0, 0, 0, 0, 0, 0, 0, 0, 0, 0, 0, 0, 0, 0, 0, 0, 0, 0, 0, 0, 0, 0, 0, 0, 0, 0, 0, 0, 0, 0, 0, 0, 0, 0, 0, 0, 0, 0, 0, 0, 0, 0, 0, 0, 0, 0, 0, 0, 0, 0, 0, 0, 0, 0, 0, 0, 0, 0, 0, 0, 0, 0, 0, 0, 0, 0, 0, 0, 0, 0, 0, 0, 0, 0, 0, 0, 0, 0, 0, 0, 0, 0, 0, 0, 0, 0, 0, 0, 0, 0, 0, 0, 0, 0, 0, 0, 0, 0, 0, 0, 0, 0, 0, 0, 0, 0, 0, 0, 0, 0, 0, 0, 0, 0, 0, 0, 0, 0, 0, 0, 0, 0, 0, 0, 0, 0, 0, 0, 0, 0, 0, 0, 0, 0, 0, 0, 0, 0, 0, 0, 0, 0, 0, 0, 0, 0, 0, 0, 0, 0, 0, 0, 0, 0, 0, 0, 0, 0, 0, 0, 0, 0, 0, 0, 0, 0, 0, 0, 0, 0, 0, 0, 0, 0, 0, 0, 0, 0, 0, 0, 0, 0, 0, 0, 0, 0, 0, 0, 0, 0, 0, 0, 0, 0, 0, 0, 0, 0, 0, 0, 0, 0, 0, 0, 0, 0, 0, 0, 0, 0, 0, 0, 0, 0, 0, 0, 0, 0, 0, 0, 0, 0, 0, 0, 0, 0, 0, 0, 0, 0, 0, 0, 0, 0, 0, 0, 0, 0, 0, 0, 0, 0, 0, 0, 0, 0, 0, 0, 0, 0, 0, 0, 0, 0, 0, 0, 0, 0, 0, 0, 0, 0, 0, 0, 0, 0, 0, 0, 0, 0, 0, 0, 0, 0, 0, 0, 0, 0, 0, 0, 0, 0, 0, 0, 0, 0, 0, 0, 0, 0, 0, 0, 0, 0, 0, 0, 0, 0, 0, 0, 0, 0, 0, 0, 0, 0, 0, 0, 0, 0, 0, 0, 0, 0, 0, 0, 0, 0, 0, 0, 0, 0, 0, 0, 0, 0, 0, 0, 0, 0, 0, 0, 0, 0, 0, 0, 0, 0, 0, 0, 0, 0, 0, 0, 0, 0, 0, 0, 0, 0, 0, 0, 0, 0, 0, 0, 0, 0, 0, 0, 0, 0, 0, 0, 0, 0, 0, 0, 0, 0, 0, 0, 0, 0, 0, 0, 0, 0, 0, 0, 0, 0, 0, 0, 0, 0, 0, 0, 0, 0, 0, 0, 0, 0, 0, 0, 0, 0, 0, 0, 0, 0, 0, 0, 0, 0, 0, 0, 0, 0, 0, 0, 0, 0, 0, 0, 0, 0, 0, 0, 0, 0, 0, 0, 0, 0, 0, 0, 0, 0, 0, 0, 0, 0, 0, 0, 0, 0, 0, 0, 0, 0, 0, 0, 0, 0, 0, 0, 0, 0, 0, 0, 0, 0, 0, 0, 0, 0, 0, 0, 0, 0, 0, 0, 0, 0, 0, 0, 0, 0, 0, 0, 0, 0, 0, 0, 0, 0, 0, 0, 0, 0, 0, 0, 0, 0, 0, 0, 0, 0, 0, 0, 0, 0, 0, 0, 0, 0, 0, 0, 0, 0, 0, 0, 0, 0, 0, 0, 0, 0, 0, 0, 0, 0, 0, 0]\n",
      "Quesadilla Sausage Egg and Cheese  attributes:\n",
      " Soy \n",
      " Dairy \n",
      " Egg \n",
      " Wheat \n",
      "inner para is  Amount Per Serving Calories 1,321 % Daily Value*Total Fat 100g  Saturated Fat 27g Trans Fat 0g Cholesterol 335mg Sodium 2,330mg Total Carbohydrate 61g  Dietary Fiber 3g  Total Sugar 7g  Added Sugar 2g Protein 49g \n",
      "['Quesadilla Sausage Egg and Cheese', 1, 1, 1, 0, 0, 1, 0, 0, 0, 0, 0, 0, 0, 0, 1321, 100, 27, 0, 335, 2330, 61, 3, 7, 2, 49, 0, 0, 0, 0, 0, 0, 0, 0, 0, 0, 0, 0, 0, 0, 0, 0, 0, 0, 0, 0, 0, 0, 0, 0, 0, 0, 0, 0, 0, 0, 0, 0, 0, 0, 0, 0, 0, 0, 0, 0, 0, 0, 0, 0, 0, 0, 0, 0, 0, 0, 0, 0, 0, 0, 0, 0, 0, 0, 0, 0, 0, 0, 0, 0, 0, 0, 0, 0, 0, 0, 0, 0, 0, 0, 0, 0, 0, 0, 0, 0, 0, 0, 0, 0, 0, 0, 0, 0, 0, 0, 0, 0, 0, 0, 0, 0, 0, 0, 0, 0, 0, 0, 0, 0, 0, 0, 0, 0, 0, 0, 0, 0, 0, 0, 0, 0, 0, 0, 0, 0, 0, 0, 0, 0, 0, 0, 0, 0, 0, 0, 0, 0, 0, 0, 0, 0, 0, 0, 0, 0, 0, 0, 0, 0, 0, 0, 0, 0, 0, 0, 0, 0, 0, 0, 0, 0, 0, 0, 0, 0, 0, 0, 0, 0, 0, 0, 0, 0, 0, 0, 0, 0, 0, 0, 0, 0, 0, 0, 0, 0, 0, 0, 0, 0, 0, 0, 0, 0, 0, 0, 0, 0, 0, 0, 0, 0, 0, 0, 0, 0, 0, 0, 0, 0, 0, 0, 0, 0, 0, 0, 0, 0, 0, 0, 0, 0, 0, 0, 0, 0, 0, 0, 0, 0, 0, 0, 0, 0, 0, 0, 0, 0, 0, 0, 0, 0, 0, 0, 0, 0, 0, 0, 0, 0, 0, 0, 0, 0, 0, 0, 0, 0, 0, 0, 0, 0, 0, 0, 0, 0, 0, 0, 0, 0, 0, 0, 0, 0, 0, 0, 0, 0, 0, 0, 0, 0, 0, 0, 0, 0, 0, 0, 0, 0, 0, 0, 0, 0, 0, 0, 0, 0, 0, 0, 0, 0, 0, 0, 0, 0, 0, 0, 0, 0, 0, 0, 0, 0, 0, 0, 0, 0, 0, 0, 0, 0, 0, 0, 0, 0, 0, 0, 0, 0, 0, 0, 0, 0, 0, 0, 0, 0, 0, 0, 0, 0, 0, 0, 0, 0, 0, 0, 0, 0, 0, 0, 0, 0, 0, 0, 0, 0, 0, 0, 0, 0, 0, 0, 0, 0, 0, 0, 0, 0, 0, 0, 0, 0, 0, 0, 0, 0, 0, 0, 0, 0, 0, 0, 0, 0, 0, 0, 0, 0, 0, 0, 0, 0, 0, 0, 0, 0, 0, 0, 0, 0, 0, 0, 0, 0, 0, 0, 0, 0, 0, 0, 0, 0, 0, 0, 0, 0, 0, 0, 0, 0, 0, 0, 0, 0, 0, 0, 0, 0, 0, 0, 0, 0, 0, 0, 0, 0, 0, 0, 0, 0, 0, 0, 0, 0, 0, 0, 0, 0, 0, 0, 0, 0, 0, 0, 0, 0, 0, 0, 0, 0, 0, 0, 0, 0, 0, 0, 0, 0, 0, 0, 0, 0, 0, 0, 0, 0, 0, 0, 0, 0, 0, 0, 0, 0, 0, 0, 0, 0, 0, 0, 0, 0, 0, 0, 0, 0, 0, 0, 0, 0, 0, 0, 0, 0, 0, 0, 0, 0, 0, 0, 0, 0, 0, 0, 0, 0, 0, 0, 0, 0, 0, 0, 0, 0, 0, 0, 0, 0, 0, 0, 0, 0, 0, 0, 0, 0, 0, 0, 0, 0, 0, 0, 0, 0, 0, 0, 0, 0, 0, 0, 0, 0, 0, 0, 0, 0, 0, 0, 0, 0, 0, 0, 0, 0, 0, 0, 0, 0, 0, 0, 0, 0, 0, 0, 0, 0, 0, 0, 0, 0, 0, 0, 0, 0, 0, 0, 0, 0, 0, 0, 0, 0, 0, 0, 0, 0, 0, 0, 0, 0, 0, 0, 0, 0, 0, 0, 0, 0, 0, 0, 0, 0, 0, 0, 0, 0, 0, 0, 0, 0, 0, 0, 0, 0, 0, 0, 0, 0, 0, 0, 0, 0, 0, 0, 0, 0, 0, 0, 0, 0, 0, 0, 0, 0, 0, 0, 0, 0, 0, 0, 0, 0, 0, 0, 0, 0, 0, 0, 0, 0, 0, 0, 0, 0, 0, 0, 0, 0, 0, 0, 0, 0, 0, 0, 0, 0, 0, 0, 0, 0, 0, 0, 0, 0, 0, 0, 0, 0, 0, 0, 0, 0, 0, 0, 0, 0, 0, 0, 0, 0, 0, 0, 0, 0, 0, 0, 0, 0, 0, 0, 0, 0, 0, 0, 0, 0, 0, 0, 0, 0, 0, 0, 0, 0, 0, 0, 0, 0, 0, 0, 0, 0, 0, 0, 0, 0, 0, 0, 0, 0, 0, 0, 0, 0, 0, 0, 0, 0, 0, 0, 0, 0, 0, 0, 0, 0, 0, 0, 0, 0, 0, 0, 0, 0, 0, 0, 0, 0, 0, 0, 0, 0, 0, 0, 0, 0, 0, 0, 0, 0, 0, 0, 0, 0, 0, 0, 0, 0, 0, 0, 0, 0, 0, 0, 0, 0, 0, 0, 0, 0, 0, 0, 0, 0, 0, 0, 0, 0, 0, 0, 0, 0, 0, 0, 0, 0, 0, 0, 0, 0, 0, 0, 0, 0, 0, 0, 0, 0, 0, 0, 0, 0, 0, 0, 0, 0, 0, 0, 0, 0, 0, 0, 0, 0, 0, 0, 0, 0, 0, 0, 0, 0, 0, 0, 0, 0, 0, 0, 0, 0, 0, 0, 0, 0, 0, 0, 0, 0, 0, 0, 0, 0, 0, 0, 0, 0, 0, 0, 0, 0, 0, 0, 0, 0, 0, 0, 0, 0, 0, 0, 0, 0, 0, 0, 0, 0, 0, 0, 0, 0, 0, 0, 0, 0, 0, 0, 0, 0, 0, 0, 0, 0, 0, 0, 0, 0, 0, 0, 0, 0, 0, 0, 0, 0, 0, 0, 0, 0, 0, 0, 0, 0, 0, 0, 0, 0, 0, 0, 0, 0, 0, 0, 0, 0, 0, 0, 0, 0, 0, 0, 0, 0, 0, 0, 0, 0, 0, 0, 0, 0, 0, 0, 0, 0, 0, 0, 0, 0, 0, 0, 0, 0, 0, 0, 0, 0, 0, 0]\n"
     ]
    }
   ],
   "source": [
    "# add items to db\n",
    "def getSpacesAndNumbers(x):\n",
    "    result = \"\"\n",
    "    for i in range(0, len(x)):\n",
    "        if ((ord(x[i]) == 32) or (ord(x[i]) >= 48 and ord(x[i]) <= 57)):\n",
    "            result += x[i]\n",
    "    return result\n",
    "\n",
    "\n",
    "\n",
    "def addAttributesToList(array, x, count):\n",
    "    innerCount = 0\n",
    "    for i in range(len(x)):\n",
    "        if (ord(x[i]) >= 48 and ord(x[i]) <= 57):\n",
    "            array[count][innerCount + 15] = array[count][innerCount + 15] * 10 + int(x[i])\n",
    "        else:\n",
    "            if (ord(x[i - 1]) >= 48 and ord(x[i-1]) <= 57):\n",
    "                innerCount+=1\n",
    "                \n",
    "def addAllergensToList(array, x, count):\n",
    "    if (x[-3:] == \"Soy\"):\n",
    "        array[count][1] = 1\n",
    "    if (x[-5:] == \"Dairy\"):\n",
    "        array[count][2] = 1\n",
    "    if (x[-5:] == \"Wheat\"):\n",
    "        array[count][3] = 1\n",
    "    if (x == \"Vegetarian\"):\n",
    "        array[count][4] = 1\n",
    "    if (x == \"Vegan\"):\n",
    "        array[count][5] = 1\n",
    "    if (x[-3:] == \"Egg\"):\n",
    "        array[count][6] = 1\n",
    "    if (x[-4:] == \"Fish\"):\n",
    "        array[count][7] = 1\n",
    "    if (x[-6:] == \"Peanut\"):\n",
    "        array[count][8] = 1\n",
    "    if (x[-6:] == \"Sesame\"):\n",
    "        array[count][9] = 1\n",
    "    if (x[-9:] == \"Shellfish\"):\n",
    "        array[count][10] = 1\n",
    "    if (x[-7:] == \"TreeNut\"):\n",
    "        array[count][11] = 1\n",
    "    if (x == \"GlutenSensitive\"):\n",
    "        array[count][12] = 1\n",
    "    if (x == \"Halal\"):\n",
    "        array[count][13] = 1\n",
    "    if (x == \"Kosher\"):\n",
    "        array[count][14] = 1\n",
    "        \n",
    "count = 0;\n",
    "rows, cols = (1000, 1000)\n",
    "array = [ [0]*1000 for i in range(1000)]\n",
    "doIt = True\n",
    "for para in soup.find_all(\"div\",  {\"class\": [\"station-header\", \"product-name pl-2\"]}):\n",
    "    temp = (para.get_text(),)\n",
    "    if not para.get_text().isupper() and doIt and para.get_text() != \"\" and not (temp in mySet) and para.get_text() != \"Vegan Breakfast\":\n",
    "        dictReturns = lunchDict[para.get_text()]\n",
    "        xpath =  '//*[@id=\"bg-blur\"]/app-root/ng-component/mat-sidenav-container/mat-sidenav-content/div/app-menu-item-week/div/div/div[' + str(dictReturns[0]) + ']/div[' + str(dictReturns[1]) + ']/div[' + str(dictReturns[2]) + ']/div[1]'\n",
    "        time.sleep(10)\n",
    "        array[count][0] = para.get_text()\n",
    "        print(array[count][0], \" attributes:\")\n",
    "        driver_ = openPageReturnDriver()\n",
    "        x = driver_.find_element(By.XPATH, xpath).click()\n",
    "        currentItemSource = driver_.page_source\n",
    "        soup = BeautifulSoup(currentItemSource, 'html.parser')  # run parser on page source\n",
    "        for innerPara in soup.find_all(\"p\", {\"class\": \"text-ming text-center avi-text\"}):\n",
    "            x = innerPara.get_text()\n",
    "            print(x)\n",
    "            x = x.replace(\" \", \"\")\n",
    "            addAllergensToList(array, x, count)\n",
    "        for innerPara in soup.find_all(\"table\", {\"class\": \"performance-facts__table\"}):\n",
    "            print(\"inner para is \" + innerPara.get_text())\n",
    "            temp = getSpacesAndNumbers(innerPara.get_text())\n",
    "            addAttributesToList(array, temp, count)\n",
    "            print(array[count])\n",
    "        count+=1\n",
    "        driver_.close()\n"
   ]
  },
  {
   "cell_type": "code",
   "execution_count": 13,
   "id": "38fd574e",
   "metadata": {},
   "outputs": [],
   "source": [
    "# insert unique food items into db\n",
    "class MyTableClass(object):\n",
    "    def __init__(self, array):\n",
    "        self.create_connection()\n",
    "        #self.create_table()\n",
    "        self.process_item(array)\n",
    "        \n",
    "    def create_connection(self):\n",
    "        self.conn = mysql.connector.connect(\n",
    "            host='35.232.237.179',\n",
    "            user='avifresher',\n",
    "            passwd='avifreshsucks42069',\n",
    "            database='avifresher'\n",
    "        )\n",
    "        self.curr = self.conn.cursor()\n",
    "\n",
    "    def process_item(self, array):\n",
    "        count = 0;\n",
    "        while (array[count][0] != 0):\n",
    "                print(array[count][0])\n",
    "                self.curr.execute(\"\"\"insert ignore into stevenson values (%s, %s, %s, %s, %s, %s, %s, %s, %s, %s, %s, %s, %s, %s, %s, %s, %s, %s, %s, %s, %s, %s, %s, %s, %s, %s, %s, %s, %s, %s, %s, %s, %s, %s, %s, %s, %s, %s, %s, %s, %s, %s, %s, %s, %s, %s, %s, %s, %s, %s)\"\"\", (array[count][0], array[count][1], array[count][2], array[count][3], array[count][4], array[count][5], array[count][6], array[count][7], array[count][8], array[count][9], array[count][10], array[count][11], array[count][12], array[count][13], array[count][14], array[count][15], array[count][16], array[count][17], array[count][18], array[count][19], array[count][20], array[count][21], array[count][22], array[count][23], array[count][24], array[count][25], 0, 0, 0, 0, 0, 0, 0, 0, 0, 0, 0, 0, 0, 0, 0, 0, 0, 0, 0, 0, 0, 0, 0, 0))\n",
    "                self.conn.commit()\n",
    "                count+=1\n",
    "                \n",
    "    def reset(self):\n",
    "        self.curr.execute(\"\"\"UPDATE stevenson SET monday_breakfast = NULL, monday_lunch = NULL, monday_dinner = null, tuesday_breakfast = NULL, tuesday_lunch = null, tuesday_dinner = null, wednesday_breakfast = NULL, wednesday_lunch = NULL, wednesday_dinner = NULL, thursday_breakfast = NULL, thursday_lunch = NULL, thursday_dinner = NULL, friday_breakfast = NULL, friday_lunch = NULL, friday_dinner = NULL, saturday_breakfast = NULL, saturday_lunch = NULL, saturday_dinner = Null, sunday_breakfast = NULL, sunday_lunch = NULL, sunday_dinner = NULL, station = NULL;\"\"\")\n",
    "        self.conn.commit()"
   ]
  },
  {
   "cell_type": "code",
   "execution_count": 14,
   "id": "992b6c6d",
   "metadata": {},
   "outputs": [
    {
     "name": "stdout",
     "output_type": "stream",
     "text": [
      "Sausage Link, Pork\n",
      "Home Fries\n",
      "Sunrise Southwest Breakfast Burrito\n",
      "Blueberry Buttermilk Pancakes\n",
      "Quesadilla Sausage Egg and Cheese\n"
     ]
    }
   ],
   "source": [
    "x = MyTableClass(array)\n",
    "x.reset()"
   ]
  },
  {
   "cell_type": "code",
   "execution_count": 15,
   "id": "c2c3f2c2",
   "metadata": {},
   "outputs": [],
   "source": [
    "# *******************************************************************************\n",
    "# run for breakfast, lunch and dinner first and then use the reset function below"
   ]
  },
  {
   "cell_type": "code",
   "execution_count": 16,
   "id": "0a4d28a9",
   "metadata": {},
   "outputs": [],
   "source": [
    "def openPage(link):\n",
    "    driver_ = webdriver.Chrome(service=s)\n",
    "    driver_.maximize_window()\n",
    "    driver_.get(link)\n",
    "    time.sleep(5)\n",
    "    return driver_.page_source"
   ]
  },
  {
   "cell_type": "code",
   "execution_count": 17,
   "id": "e47a9dfd",
   "metadata": {},
   "outputs": [],
   "source": [
    "#html_source = driver.page_source\n",
    "html_source = openPage('https://dish.avifoodsystems.com/oberlincollege/111/182/week')\n",
    "soup = BeautifulSoup(html_source, 'html.parser')  # run parser on page source"
   ]
  },
  {
   "cell_type": "code",
   "execution_count": 18,
   "id": "83411421",
   "metadata": {},
   "outputs": [],
   "source": [
    "class forUpdate(object):\n",
    "    def __init__(self, number):\n",
    "        self.create_connection()\n",
    "        \n",
    "    def create_connection(self):\n",
    "        self.conn = mysql.connector.connect(\n",
    "            host='35.232.237.179',\n",
    "            user='avifresher',\n",
    "            passwd='avifreshsucks42069',\n",
    "            database='avifresher'\n",
    "        )\n",
    "        self.curr = self.conn.cursor()\n",
    "\n",
    "    def update(self, meal_number):\n",
    "        day = 0\n",
    "        getName = ['', 'sunday', 'monday', 'tuesday', 'wednesday', 'thursday', 'friday', 'saturday']\n",
    "        meal = ''\n",
    "        if meal_number == 0:\n",
    "            meal = '_breakfast'\n",
    "        elif meal_number == 1:\n",
    "            meal = '_lunch'\n",
    "        else:\n",
    "            meal = '_dinner'\n",
    "            \n",
    "        currentStation = ''\n",
    "        for para in soup.find_all(\"div\",  {\"class\": [\"station-header\", \"product-name pl-2\", \"text-center text-ming avi-text\"]}):\n",
    "            if (para.get_text().strip()[0:6] == \"Sunday\" or para.get_text()[0:6] == \"Monday\" or para.get_text()[0:7] == \"Tuesday\" or para.get_text()[0:9] == \"Wednesday\" or para.get_text()[0:8] == \"Thursday\" or para.get_text()[0:6] == \"Friday\" or para.get_text()[0:8] == \"Saturday\"):\n",
    "                    day += 1\n",
    "            elif para.get_text().isupper() or para.get_text() == \"Vegan Breakfast\":\n",
    "                assign = para.get_text()\n",
    "                if para.get_text()[-5:].lower() == \"lunch\":\n",
    "                    assign = para.get_text()[0: len(para.get_text()) - 5]\n",
    "                if para.get_text()[-6:].lower() == \"dinner\":\n",
    "                    assign = para.get_text()[0: len(para.get_text()) - 6]\n",
    "                currentStation = assign.upper()\n",
    "            elif (para.get_text() != \"\"):\n",
    "                currentString = para.get_text()\n",
    "                column_name = getName[day] + meal\n",
    "                query = \"UPDATE stevenson set \" + \"\".join(column_name) + \" = 1, station = %s where Name = %s\"\n",
    "                parameters = (currentStation, para.get_text())\n",
    "                self.curr.execute(query, parameters)\n",
    "                self.conn.commit()\n",
    "    "
   ]
  },
  {
   "cell_type": "code",
   "execution_count": 19,
   "id": "4c0e4d5e",
   "metadata": {},
   "outputs": [],
   "source": [
    "x = forUpdate(0)\n",
    "x.update(0)"
   ]
  },
  {
   "cell_type": "code",
   "execution_count": 20,
   "id": "f0a399d3",
   "metadata": {},
   "outputs": [],
   "source": [
    "\n",
    "html_source = openPage('https://dish.avifoodsystems.com/oberlincollege/111/183/week')\n",
    "soup = BeautifulSoup(html_source, 'html.parser')  # run parser on page source"
   ]
  },
  {
   "cell_type": "code",
   "execution_count": 21,
   "id": "7d0b32b9",
   "metadata": {},
   "outputs": [],
   "source": [
    "# wait for 10\n",
    "x.update(1)"
   ]
  },
  {
   "cell_type": "code",
   "execution_count": 22,
   "id": "d2eaf409",
   "metadata": {},
   "outputs": [],
   "source": [
    "html_source = openPage('https://dish.avifoodsystems.com/oberlincollege/111/184/week')\n",
    "soup = BeautifulSoup(html_source, 'html.parser')  # run parser on page source"
   ]
  },
  {
   "cell_type": "code",
   "execution_count": 23,
   "id": "455224f0",
   "metadata": {},
   "outputs": [],
   "source": [
    "# wait for 10\n",
    "x.update(2)"
   ]
  },
  {
   "cell_type": "code",
   "execution_count": null,
   "id": "6b9bb2d9",
   "metadata": {},
   "outputs": [],
   "source": []
  }
 ],
 "metadata": {
  "kernelspec": {
   "display_name": "Python 3",
   "language": "python",
   "name": "python3"
  },
  "language_info": {
   "codemirror_mode": {
    "name": "ipython",
    "version": 3
   },
   "file_extension": ".py",
   "mimetype": "text/x-python",
   "name": "python",
   "nbconvert_exporter": "python",
   "pygments_lexer": "ipython3",
   "version": "3.8.8"
  }
 },
 "nbformat": 4,
 "nbformat_minor": 5
}
